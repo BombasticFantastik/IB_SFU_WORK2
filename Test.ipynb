{
 "cells": [
  {
   "cell_type": "code",
   "execution_count": 51,
   "id": "37fc1a70-ad6b-4e00-9961-0a8f38e61634",
   "metadata": {},
   "outputs": [],
   "source": [
    "from random import randint\n",
    "from sympy import randprime\n",
    "from math import gcd\n"
   ]
  },
  {
   "cell_type": "markdown",
   "id": "219a5a37-7066-45e4-8fe6-90c95d970211",
   "metadata": {},
   "source": [
    "Сопоставление лекции и статьи на хабре:\n",
    "P:P\n",
    "Q:Q\n",
    "N:N\n",
    "d:F(N)\n",
    "s:e\n",
    "e:d"
   ]
  },
  {
   "cell_type": "code",
   "execution_count": 52,
   "id": "3248eaca-ff5d-45b1-be38-0a542c2b9886",
   "metadata": {},
   "outputs": [],
   "source": [
    "#a=randprime(10**27,10**28)"
   ]
  },
  {
   "cell_type": "code",
   "execution_count": 53,
   "id": "011d488c-d484-4c19-ae8b-1abc1110524a",
   "metadata": {},
   "outputs": [],
   "source": [
    "def find_NPQ()->(int,int,int):\n",
    "    N=0\n",
    "    while len(str(N))!=28:\n",
    "        P=randprime(2,(10**randint(2,28)-1))\n",
    "        Q=randprime(2,(10**randint(2,28)-1))\n",
    "        N=P*Q\n",
    "    return N,P,Q"
   ]
  },
  {
   "cell_type": "code",
   "execution_count": 54,
   "id": "98a035e4-fc60-43c7-8a95-aaf1309f7d9a",
   "metadata": {},
   "outputs": [],
   "source": [
    "N,P,Q=find_NPQ()"
   ]
  },
  {
   "cell_type": "code",
   "execution_count": 55,
   "id": "1f695c7e-07c3-4980-bb00-74072e28230b",
   "metadata": {},
   "outputs": [],
   "source": [
    "d=(P-1)*(Q-1)"
   ]
  },
  {
   "cell_type": "code",
   "execution_count": 56,
   "id": "21d47e5e-5031-4fb4-b01a-8d8e5e31427b",
   "metadata": {},
   "outputs": [
    {
     "data": {
      "text/plain": [
       "6274575411461035030540349304"
      ]
     },
     "execution_count": 56,
     "metadata": {},
     "output_type": "execute_result"
    }
   ],
   "source": [
    "d"
   ]
  },
  {
   "cell_type": "code",
   "execution_count": 57,
   "id": "58d188e1-267e-49f2-9783-0be7d131558c",
   "metadata": {},
   "outputs": [],
   "source": [
    "def find_s(d)->int:\n",
    "    s=d\n",
    "    while gcd(d,s)!=1:\n",
    "        s=randint(2,d)\n",
    "    return s"
   ]
  },
  {
   "cell_type": "code",
   "execution_count": 58,
   "id": "c7c3a542-a2c6-4a9c-8f15-af4c0650263f",
   "metadata": {},
   "outputs": [],
   "source": [
    "s=find_s(d)"
   ]
  },
  {
   "cell_type": "code",
   "execution_count": 59,
   "id": "41b6e86a-e683-4f54-8a22-01c4bf9d8b38",
   "metadata": {},
   "outputs": [
    {
     "data": {
      "text/plain": [
       "5437619017088236136081193971"
      ]
     },
     "execution_count": 59,
     "metadata": {},
     "output_type": "execute_result"
    }
   ],
   "source": [
    "s"
   ]
  },
  {
   "cell_type": "code",
   "execution_count": 60,
   "id": "1aa68b1a-3fa5-4fac-9c96-68c15745dec0",
   "metadata": {},
   "outputs": [],
   "source": [
    "def split_text(text):\n",
    "    splitted_text=[]\n",
    "    for i in range(0,len(text),28):\n",
    "        try:\n",
    "            splitted_text.append(text[i:i+28])\n",
    "        except:\n",
    "            splitted_text.append(text[i:])\n",
    "            return splitted_text\n",
    "    return splitted_text\n",
    "        \n",
    "    \n",
    "    "
   ]
  },
  {
   "cell_type": "code",
   "execution_count": 61,
   "id": "8ae1fa6e-5260-4588-90c3-afa4948339dd",
   "metadata": {},
   "outputs": [
    {
     "data": {
      "text/plain": [
       "['Я приехал как у тебя дела, д', 'орогой друг ???? оф дывфыдло', 'вфлоывофы']"
      ]
     },
     "execution_count": 61,
     "metadata": {},
     "output_type": "execute_result"
    }
   ],
   "source": [
    "split_text('Я приехал как у тебя дела, дорогой друг ???? оф дывфыдловфлоывофы')"
   ]
  },
  {
   "cell_type": "code",
   "execution_count": 62,
   "id": "48e0405e-4bf5-4ab6-aa4d-492132ad59f0",
   "metadata": {},
   "outputs": [],
   "source": [
    "def text2ASCII(text:str)-> int:\n",
    "    nums=[]\n",
    "    for symb in text:\n",
    "        nums.append(str(ord(symb)))\n",
    "    \n",
    "    lenghts=[len(i) for i in nums]\n",
    "    new_nums=[]\n",
    "    for num in nums:\n",
    "        while len(num)<max(lenghts):\n",
    "            num='0'+num\n",
    "        new_nums.append(num)\n",
    "    return new_nums"
   ]
  },
  {
   "cell_type": "code",
   "execution_count": 63,
   "id": "5bcacf8c-8224-4cfe-a2a3-2268d919eecd",
   "metadata": {},
   "outputs": [],
   "source": [
    "def ASCII2text(nums:int,step:int):\n",
    "    text=[]\n",
    "    for i in range(0,len(nums),step):\n",
    "        text.append(chr(int(nums[i:i+step])))\n",
    "    return text\n",
    "        \n",
    "        "
   ]
  },
  {
   "cell_type": "code",
   "execution_count": 64,
   "id": "d098c9dd-cd59-48a7-b3cb-2290c8d04276",
   "metadata": {},
   "outputs": [
    {
     "data": {
      "text/plain": [
       "['114', '114', '121', '101']"
      ]
     },
     "execution_count": 64,
     "metadata": {},
     "output_type": "execute_result"
    }
   ],
   "source": [
    "text2ASCII('rrye')"
   ]
  },
  {
   "cell_type": "code",
   "execution_count": 65,
   "id": "7c2e9190-a2ce-47e4-b307-428468535a1d",
   "metadata": {},
   "outputs": [
    {
     "ename": "TypeError",
     "evalue": "'str' object cannot be interpreted as an integer",
     "output_type": "error",
     "traceback": [
      "\u001b[31m---------------------------------------------------------------------------\u001b[39m",
      "\u001b[31mTypeError\u001b[39m                                 Traceback (most recent call last)",
      "\u001b[36mCell\u001b[39m\u001b[36m \u001b[39m\u001b[32mIn[65]\u001b[39m\u001b[32m, line 1\u001b[39m\n\u001b[32m----> \u001b[39m\u001b[32m1\u001b[39m \u001b[38;5;28;43mchr\u001b[39;49m\u001b[43m(\u001b[49m\u001b[33;43m'\u001b[39;49m\u001b[33;43m97\u001b[39;49m\u001b[33;43m'\u001b[39;49m\u001b[43m)\u001b[49m\n",
      "\u001b[31mTypeError\u001b[39m: 'str' object cannot be interpreted as an integer"
     ]
    }
   ],
   "source": [
    "chr('97')"
   ]
  },
  {
   "cell_type": "code",
   "execution_count": 66,
   "id": "5bcdcc3f-392d-4d9c-912b-3ed981e0c3cb",
   "metadata": {},
   "outputs": [
    {
     "data": {
      "text/plain": [
       "['a', 's', 'd']"
      ]
     },
     "execution_count": 66,
     "metadata": {},
     "output_type": "execute_result"
    }
   ],
   "source": [
    "ASCII2text('097115100',3)"
   ]
  },
  {
   "cell_type": "code",
   "execution_count": 67,
   "id": "50ac86fc-c64c-4823-ad30-fbc1bfef4502",
   "metadata": {},
   "outputs": [],
   "source": [
    "text=[part for part in split_text(\"Привет как у тебя дела расскажи о себе немного пжпжпжпжпж\")]\n",
    "#acsitext=[text2ASCII(part) for part in text]\n",
    "#merge_acsitext=[''.join(part) for part in acsitext]\n",
    "#final_acsitext=''.join(merge_acsitext)"
   ]
  },
  {
   "cell_type": "code",
   "execution_count": 68,
   "id": "52bf4f0b-fa9d-4bd4-a176-a18693ce8396",
   "metadata": {},
   "outputs": [
    {
     "data": {
      "text/plain": [
       "['1055',\n",
       " '1088',\n",
       " '1080',\n",
       " '1074',\n",
       " '1077',\n",
       " '1090',\n",
       " '0032',\n",
       " '1082',\n",
       " '1072',\n",
       " '1082',\n",
       " '0032',\n",
       " '1091',\n",
       " '0032',\n",
       " '1090',\n",
       " '1077',\n",
       " '1073',\n",
       " '1103',\n",
       " '0032',\n",
       " '1076',\n",
       " '1077',\n",
       " '1083',\n",
       " '1072',\n",
       " '0032',\n",
       " '1088',\n",
       " '1072',\n",
       " '1089',\n",
       " '1089',\n",
       " '1082']"
      ]
     },
     "execution_count": 68,
     "metadata": {},
     "output_type": "execute_result"
    }
   ],
   "source": [
    "text2ASCII(text[0])"
   ]
  },
  {
   "cell_type": "code",
   "execution_count": 69,
   "id": "f83ea7bd-6af6-4ef4-b723-e2f2ed21ef1e",
   "metadata": {},
   "outputs": [],
   "source": [
    "def euclid_method(a,b):\n",
    "    if b==0:\n",
    "        return a,1,0\n",
    "    else:\n",
    "        d,x,y=euclid_method(b,a%b)\n",
    "        return d,y,x-y*(a//b)"
   ]
  },
  {
   "cell_type": "code",
   "execution_count": 70,
   "id": "631e25ef-8066-4c90-8117-d3affb33ae21",
   "metadata": {},
   "outputs": [],
   "source": [
    "e,y,x=euclid_method(d,s)"
   ]
  },
  {
   "cell_type": "code",
   "execution_count": 71,
   "id": "adf78a9a-6aa3-4605-952b-03ba58e75008",
   "metadata": {},
   "outputs": [],
   "source": [
    "e=d-abs(min(x,y))"
   ]
  },
  {
   "cell_type": "code",
   "execution_count": 17,
   "id": "cc78587f-bcec-4e00-a2c8-03b152764da8",
   "metadata": {},
   "outputs": [
    {
     "ename": "SyntaxError",
     "evalue": "invalid syntax (2245092570.py, line 1)",
     "output_type": "error",
     "traceback": [
      "  \u001b[36mCell\u001b[39m\u001b[36m \u001b[39m\u001b[32mIn[17]\u001b[39m\u001b[32m, line 1\u001b[39m\n\u001b[31m    \u001b[39m\u001b[31mоткрыте ключи:\u001b[39m\n            ^\n\u001b[31mSyntaxError\u001b[39m\u001b[31m:\u001b[39m invalid syntax\n"
     ]
    }
   ],
   "source": [
    "# открыте ключи:\n",
    "# s и N\n",
    "\n",
    "# закртые ключи:\n",
    "# e и N"
   ]
  },
  {
   "cell_type": "code",
   "execution_count": 83,
   "id": "ca7ead95-ec53-4256-8ceb-e2e7ea145bca",
   "metadata": {},
   "outputs": [
    {
     "data": {
      "text/plain": [
       "6355018685966945736060097451"
      ]
     },
     "execution_count": 83,
     "metadata": {},
     "output_type": "execute_result"
    }
   ],
   "source": [
    "N"
   ]
  },
  {
   "cell_type": "code",
   "execution_count": 87,
   "id": "49a72cb2-79c6-45b7-a430-e0ea478bbcd7",
   "metadata": {},
   "outputs": [],
   "source": [
    "# Заданные значения\n",
    "\n",
    "result = pow(21,s,N)"
   ]
  },
  {
   "cell_type": "code",
   "execution_count": 88,
   "id": "f8bac512-ed81-4274-895e-0a1b9487828e",
   "metadata": {},
   "outputs": [
    {
     "name": "stdout",
     "output_type": "stream",
     "text": [
      "4824409701633088799377161973\n"
     ]
    }
   ],
   "source": [
    "print(result)"
   ]
  },
  {
   "cell_type": "code",
   "execution_count": 89,
   "id": "bef4039f-d63a-470d-a417-6f865ce0d63e",
   "metadata": {},
   "outputs": [
    {
     "data": {
      "text/plain": [
       "21"
      ]
     },
     "execution_count": 89,
     "metadata": {},
     "output_type": "execute_result"
    }
   ],
   "source": [
    "pow(result,e,N)"
   ]
  },
  {
   "cell_type": "code",
   "execution_count": null,
   "id": "d6b0dc93-73f8-4ef4-b240-45225b0237a1",
   "metadata": {},
   "outputs": [],
   "source": [
    "result"
   ]
  },
  {
   "cell_type": "code",
   "execution_count": null,
   "id": "eca5d77a-9e00-4aa3-b41b-d6b3d591d74c",
   "metadata": {},
   "outputs": [],
   "source": [
    "983345472365620426125435614"
   ]
  }
 ],
 "metadata": {
  "kernelspec": {
   "display_name": "Python 3 (ipykernel)",
   "language": "python",
   "name": "python3"
  },
  "language_info": {
   "codemirror_mode": {
    "name": "ipython",
    "version": 3
   },
   "file_extension": ".py",
   "mimetype": "text/x-python",
   "name": "python",
   "nbconvert_exporter": "python",
   "pygments_lexer": "ipython3",
   "version": "3.13.2"
  }
 },
 "nbformat": 4,
 "nbformat_minor": 5
}
