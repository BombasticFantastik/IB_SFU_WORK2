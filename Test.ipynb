{
 "cells": [
  {
   "cell_type": "code",
   "execution_count": 414,
   "id": "37fc1a70-ad6b-4e00-9961-0a8f38e61634",
   "metadata": {},
   "outputs": [],
   "source": [
    "from random import randint\n",
    "from sympy import randprime\n",
    "from math import gcd\n"
   ]
  },
  {
   "cell_type": "markdown",
   "id": "219a5a37-7066-45e4-8fe6-90c95d970211",
   "metadata": {},
   "source": [
    "Сопоставление лекции и статьи на хабре:\n",
    "P:P\n",
    "Q:Q\n",
    "N:N\n",
    "d:F(N)\n",
    "s:e\n",
    "e:d"
   ]
  },
  {
   "cell_type": "code",
   "execution_count": 415,
   "id": "3248eaca-ff5d-45b1-be38-0a542c2b9886",
   "metadata": {},
   "outputs": [],
   "source": [
    "#a=randprime(10**27,10**28)"
   ]
  },
  {
   "cell_type": "code",
   "execution_count": 416,
   "id": "011d488c-d484-4c19-ae8b-1abc1110524a",
   "metadata": {},
   "outputs": [],
   "source": [
    "def find_NPQ()->(int,int,int):\n",
    "    N=0\n",
    "    while len(str(N))!=28:\n",
    "        P=randprime(2,(10**randint(2,28)-1))\n",
    "        Q=randprime(2,(10**randint(2,28)-1))\n",
    "        N=P*Q\n",
    "    return N,P,Q"
   ]
  },
  {
   "cell_type": "code",
   "execution_count": 417,
   "id": "98a035e4-fc60-43c7-8a95-aaf1309f7d9a",
   "metadata": {},
   "outputs": [],
   "source": [
    "N,P,Q=find_NPQ()"
   ]
  },
  {
   "cell_type": "code",
   "execution_count": 418,
   "id": "1f695c7e-07c3-4980-bb00-74072e28230b",
   "metadata": {},
   "outputs": [],
   "source": [
    "d=(P-1)*(Q-1)"
   ]
  },
  {
   "cell_type": "code",
   "execution_count": 419,
   "id": "58d188e1-267e-49f2-9783-0be7d131558c",
   "metadata": {},
   "outputs": [],
   "source": [
    "def find_s(d)->int:\n",
    "    s=d\n",
    "    while gcd(d,s)!=1:\n",
    "        s=randint(2,d-1)\n",
    "    return s"
   ]
  },
  {
   "cell_type": "code",
   "execution_count": 420,
   "id": "c7c3a542-a2c6-4a9c-8f15-af4c0650263f",
   "metadata": {},
   "outputs": [],
   "source": [
    "s=find_s(d)"
   ]
  },
  {
   "cell_type": "code",
   "execution_count": 421,
   "id": "1aa68b1a-3fa5-4fac-9c96-68c15745dec0",
   "metadata": {},
   "outputs": [],
   "source": [
    "def split_text(text):\n",
    "    splitted_text=[]\n",
    "    for i in range(0,len(text),28):\n",
    "        try:\n",
    "            splitted_text.append(text[i:i+28])\n",
    "        except:\n",
    "            splitted_text.append(text[i:])\n",
    "            return splitted_text\n",
    "    return splitted_text\n",
    "        \n",
    "    \n",
    "    "
   ]
  },
  {
   "cell_type": "code",
   "execution_count": 422,
   "id": "48e0405e-4bf5-4ab6-aa4d-492132ad59f0",
   "metadata": {},
   "outputs": [],
   "source": [
    "def text2ASCII(text:str)-> int:\n",
    "    nums=[]\n",
    "    for symb in text:\n",
    "        nums.append(str(ord(symb)))\n",
    "    \n",
    "    lenghts=[len(i) for i in nums]\n",
    "    new_nums=[]\n",
    "    for num in nums:\n",
    "        while len(num)<max(lenghts):\n",
    "            num='0'+num\n",
    "        new_nums.append(num)\n",
    "    return new_nums"
   ]
  },
  {
   "cell_type": "code",
   "execution_count": 423,
   "id": "5bcacf8c-8224-4cfe-a2a3-2268d919eecd",
   "metadata": {},
   "outputs": [],
   "source": [
    "def ASCII2text(nums:int,step:int):\n",
    "    text=[]\n",
    "    for i in range(0,len(nums),step):\n",
    "        text.append(chr(int(nums[i:i+step])))\n",
    "    return text\n",
    "        \n",
    "        "
   ]
  },
  {
   "cell_type": "code",
   "execution_count": 424,
   "id": "f83ea7bd-6af6-4ef4-b723-e2f2ed21ef1e",
   "metadata": {},
   "outputs": [],
   "source": [
    "def euclid_method(a, b):\n",
    "    if b == 0:\n",
    "        return a, 1, 0\n",
    "    else:\n",
    "        gcd, x1, y1 = euclid_method(b, a % b)\n",
    "        x = y1\n",
    "        y = x1 - (a // b) * y1\n",
    "        return gcd, x, y"
   ]
  },
  {
   "cell_type": "code",
   "execution_count": 425,
   "id": "58261baa-310f-491d-b9e6-7ef8bb6abf05",
   "metadata": {},
   "outputs": [],
   "source": [
    "def gcdExtended(a, b): \n",
    "    # Base Case \n",
    "    if a == 0 : \n",
    "        return b,0,1\n",
    "             \n",
    "    gcd,x1,y1 = gcdExtended(b%a, a) \n",
    "     \n",
    "    # Update x and y using results of recursive \n",
    "    # call \n",
    "    x = y1 - (b//a) * x1 \n",
    "    y = x1 \n",
    "     \n",
    "    return gcd,x,y \n",
    "     \n",
    " \n",
    "# Driver code \n",
    "#a, b = 35,15\n",
    "#g, x, y = gcdExtended(a, b) "
   ]
  },
  {
   "cell_type": "code",
   "execution_count": 438,
   "id": "631e25ef-8066-4c90-8117-d3affb33ae21",
   "metadata": {},
   "outputs": [],
   "source": [
    "e,x,y=euclid_method(d,s)\n"
   ]
  },
  {
   "cell_type": "code",
   "execution_count": 435,
   "id": "adf78a9a-6aa3-4605-952b-03ba58e75008",
   "metadata": {},
   "outputs": [],
   "source": [
    "e=d-abs(min(x,y))"
   ]
  },
  {
   "cell_type": "code",
   "execution_count": 436,
   "id": "9be69c92-20de-420f-95fa-d0889ccd7c1e",
   "metadata": {},
   "outputs": [
    {
     "data": {
      "text/plain": [
       "1147532066870349536477309197"
      ]
     },
     "execution_count": 436,
     "metadata": {},
     "output_type": "execute_result"
    }
   ],
   "source": [
    "e"
   ]
  },
  {
   "cell_type": "code",
   "execution_count": 429,
   "id": "01dd3d28-5d6e-48d8-abf3-599562a176c4",
   "metadata": {},
   "outputs": [],
   "source": [
    "# e,y,x=euclid_method(d,s)\n",
    "# e=d-abs(min(x,y))\n",
    "# while pow(e*s,1,d)!=1:\n",
    "#     e,y,x=euclid_method(d,s)\n",
    "#     e=d-abs(min(x,y))"
   ]
  },
  {
   "cell_type": "code",
   "execution_count": 430,
   "id": "cc78587f-bcec-4e00-a2c8-03b152764da8",
   "metadata": {},
   "outputs": [],
   "source": [
    "# открыте ключи:\n",
    "# s и N\n",
    "\n",
    "# закртые ключи:\n",
    "# e и N"
   ]
  },
  {
   "cell_type": "code",
   "execution_count": 431,
   "id": "49a72cb2-79c6-45b7-a430-e0ea478bbcd7",
   "metadata": {},
   "outputs": [],
   "source": [
    "# Заданные значения\n",
    "\n",
    "result = pow(21,s,N)"
   ]
  },
  {
   "cell_type": "code",
   "execution_count": 410,
   "id": "92140c2d-4541-4a24-a9f6-51dc0859c025",
   "metadata": {},
   "outputs": [
    {
     "data": {
      "text/plain": [
       "1829604105480051109099908701"
      ]
     },
     "execution_count": 410,
     "metadata": {},
     "output_type": "execute_result"
    }
   ],
   "source": [
    "pow(e*s,1,d)"
   ]
  },
  {
   "cell_type": "code",
   "execution_count": 411,
   "id": "b969fee7-d895-44e9-93b6-11dd151aa372",
   "metadata": {},
   "outputs": [],
   "source": [
    "if P*Q==N and d==(P-1)*(Q-1) and s<d and gcd(s,d)==1 and gcd(d,s)==1 and pow(e*s,1,d)==1:\n",
    "    print('да')"
   ]
  },
  {
   "cell_type": "code",
   "execution_count": 412,
   "id": "f8bac512-ed81-4274-895e-0a1b9487828e",
   "metadata": {},
   "outputs": [
    {
     "name": "stdout",
     "output_type": "stream",
     "text": [
      "2156230576476473867251069417\n"
     ]
    }
   ],
   "source": [
    "print(result)"
   ]
  },
  {
   "cell_type": "code",
   "execution_count": 413,
   "id": "bef4039f-d63a-470d-a417-6f865ce0d63e",
   "metadata": {},
   "outputs": [
    {
     "data": {
      "text/plain": [
       "2156230576476473867251069417"
      ]
     },
     "execution_count": 413,
     "metadata": {},
     "output_type": "execute_result"
    }
   ],
   "source": [
    "pow(result,e,N)"
   ]
  },
  {
   "cell_type": "code",
   "execution_count": null,
   "id": "209af621-67ab-433a-95f1-aa0f5f3f38d3",
   "metadata": {},
   "outputs": [],
   "source": []
  }
 ],
 "metadata": {
  "kernelspec": {
   "display_name": "Python 3 (ipykernel)",
   "language": "python",
   "name": "python3"
  },
  "language_info": {
   "codemirror_mode": {
    "name": "ipython",
    "version": 3
   },
   "file_extension": ".py",
   "mimetype": "text/x-python",
   "name": "python",
   "nbconvert_exporter": "python",
   "pygments_lexer": "ipython3",
   "version": "3.13.2"
  }
 },
 "nbformat": 4,
 "nbformat_minor": 5
}
